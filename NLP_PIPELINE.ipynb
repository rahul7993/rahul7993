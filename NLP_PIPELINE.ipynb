{
  "nbformat": 4,
  "nbformat_minor": 0,
  "metadata": {
    "colab": {
      "provenance": [],
      "include_colab_link": true
    },
    "kernelspec": {
      "name": "python3",
      "display_name": "Python 3"
    },
    "language_info": {
      "name": "python"
    }
  },
  "cells": [
    {
      "cell_type": "markdown",
      "metadata": {
        "id": "view-in-github",
        "colab_type": "text"
      },
      "source": [
        "<a href=\"https://colab.research.google.com/github/rahul7993/rahul7993/blob/main/NLP_PIPELINE.ipynb\" target=\"_parent\"><img src=\"https://colab.research.google.com/assets/colab-badge.svg\" alt=\"Open In Colab\"/></a>"
      ]
    },
    {
      "cell_type": "code",
      "execution_count": null,
      "metadata": {
        "id": "J9kx1iS4cRzC"
      },
      "outputs": [],
      "source": [
        "import spacy\n",
        "nlp = spacy.load ('en_core_web_sm')"
      ]
    },
    {
      "cell_type": "code",
      "source": [
        "nlp = spacy.load ('en_core_web_sm')\n",
        "text = \"It learns to represent text as a sequence of vectors using self-supervised learning. It uses the encoder-only transformer architecture. It is notable for its dramatic improvement over previous state-of-the-art models, and as an early example of a large language model\"\n",
        "doc = nlp(text)\n",
        "\n",
        "#sentence segementation\n",
        "sentence = [sent.text for sent in doc.sents]\n",
        "\n",
        "# Word Tokenization\n",
        "words = [token.text for token in doc]\n",
        "\n",
        "#lematization\n",
        "lemmatization = [token.lemma_ for token in doc]\n",
        "\n",
        "#stemming\n",
        "#stemming = [token.stem_ for token in doc]\n",
        "\n",
        "#pos taggin\n",
        "pos ={token.pos_ for token in doc}\n",
        "\n",
        "#stop word\n",
        "stop_word = [token.text for token in doc if token.is_stop]\n"
      ],
      "metadata": {
        "id": "Y_p4iGDXcqxp"
      },
      "execution_count": null,
      "outputs": []
    },
    {
      "cell_type": "code",
      "source": [
        "# printing output\n",
        "print(\"Sentence Segmentation\")\n",
        "print(sentence)\n"
      ],
      "metadata": {
        "colab": {
          "base_uri": "https://localhost:8080/"
        },
        "id": "AfG0czdQetAk",
        "outputId": "3d6718e4-a0d5-4b55-fdc2-3cb87250c522"
      },
      "execution_count": null,
      "outputs": [
        {
          "output_type": "stream",
          "name": "stdout",
          "text": [
            "Sentence Segmentation\n",
            "['It learns to represent text as a sequence of vectors using self-supervised learning.', 'It uses the encoder-only transformer architecture.', 'It is notable for its dramatic improvement over previous state-of-the-art models, and as an early example of a large language model']\n"
          ]
        }
      ]
    },
    {
      "cell_type": "code",
      "source": [
        "print (\"Lemmatization\")\n",
        "print(lemmatization)"
      ],
      "metadata": {
        "colab": {
          "base_uri": "https://localhost:8080/"
        },
        "id": "bAoXuG0_kOJH",
        "outputId": "23142bba-3b47-4955-f193-cac96ded6377"
      },
      "execution_count": null,
      "outputs": [
        {
          "output_type": "stream",
          "name": "stdout",
          "text": [
            "Lemmatization\n",
            "['it', 'learn', 'to', 'represent', 'text', 'as', 'a', 'sequence', 'of', 'vector', 'use', 'self', '-', 'supervise', 'learning', '.', 'it', 'use', 'the', 'encoder', '-', 'only', 'transformer', 'architecture', '.', 'it', 'be', 'notable', 'for', 'its', 'dramatic', 'improvement', 'over', 'previous', 'state', '-', 'of', '-', 'the', '-', 'art', 'model', ',', 'and', 'as', 'an', 'early', 'example', 'of', 'a', 'large', 'language', 'model']\n"
          ]
        }
      ]
    },
    {
      "cell_type": "code",
      "source": [
        "print (\"POS Tagging\")\n",
        "print(pos)"
      ],
      "metadata": {
        "colab": {
          "base_uri": "https://localhost:8080/"
        },
        "id": "CTEQWcytkSR4",
        "outputId": "1407dbd9-ff3d-4cb5-af8e-2a3553c28534"
      },
      "execution_count": null,
      "outputs": [
        {
          "output_type": "stream",
          "name": "stdout",
          "text": [
            "POS Tagging\n",
            "{'ADV', 'AUX', 'ADP', 'VERB', 'PART', 'CCONJ', 'PRON', 'DET', 'ADJ', 'PUNCT', 'NOUN'}\n"
          ]
        }
      ]
    },
    {
      "cell_type": "code",
      "source": [
        "print (\"stop_word\")\n",
        "print(stop_word)"
      ],
      "metadata": {
        "colab": {
          "base_uri": "https://localhost:8080/"
        },
        "id": "5KvQ-VnwkbDP",
        "outputId": "b6e8f2be-6983-436b-ee04-f2a4cb7aa002"
      },
      "execution_count": null,
      "outputs": [
        {
          "output_type": "stream",
          "name": "stdout",
          "text": [
            "stop_word\n",
            "['It', 'to', 'as', 'a', 'of', 'using', 'It', 'the', 'only', 'It', 'is', 'for', 'its', 'over', 'of', 'the', 'and', 'as', 'an', 'of', 'a']\n"
          ]
        }
      ]
    },
    {
      "cell_type": "code",
      "source": [
        "print (\"Word Tokenization\")\n",
        "print(words)"
      ],
      "metadata": {
        "colab": {
          "base_uri": "https://localhost:8080/"
        },
        "id": "7v7Zz6qallVh",
        "outputId": "290519ec-3e2c-4cc2-f80c-63a597fdec01"
      },
      "execution_count": null,
      "outputs": [
        {
          "output_type": "stream",
          "name": "stdout",
          "text": [
            "Word Tokenization\n",
            "['It', 'learns', 'to', 'represent', 'text', 'as', 'a', 'sequence', 'of', 'vectors', 'using', 'self', '-', 'supervised', 'learning', '.', 'It', 'uses', 'the', 'encoder', '-', 'only', 'transformer', 'architecture', '.', 'It', 'is', 'notable', 'for', 'its', 'dramatic', 'improvement', 'over', 'previous', 'state', '-', 'of', '-', 'the', '-', 'art', 'models', ',', 'and', 'as', 'an', 'early', 'example', 'of', 'a', 'large', 'language', 'model']\n"
          ]
        }
      ]
    }
  ]
}